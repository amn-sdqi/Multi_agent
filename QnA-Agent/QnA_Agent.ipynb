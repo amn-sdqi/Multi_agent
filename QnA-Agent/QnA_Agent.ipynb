{
 "cells": [
  {
   "cell_type": "code",
   "execution_count": 2,
   "id": "300227b6-1178-4c5c-8066-10785d5449b0",
   "metadata": {},
   "outputs": [],
   "source": [
    "from langchain_google_genai import ChatGoogleGenerativeAI\n",
    "from langchain_core.prompts import PromptTemplate\n",
    "from langchain_core.tools import tool\n",
    "from langchain.agents import create_react_agent, AgentExecutor,Tool\n",
    "from langchain_community.tools import DuckDuckGoSearchRun\n",
    "from langchain.memory import ConversationBufferMemory\n",
    "from langchain import hub\n",
    "import os"
   ]
  },
  {
   "cell_type": "code",
   "execution_count": 3,
   "id": "efcef3b9-cd81-49ab-be97-b454cb340077",
   "metadata": {},
   "outputs": [],
   "source": [
    "from dotenv import load_dotenv"
   ]
  },
  {
   "cell_type": "code",
   "execution_count": 4,
   "id": "5a853331-7040-4465-8857-1eb01d8ff252",
   "metadata": {},
   "outputs": [
    {
     "data": {
      "text/plain": [
       "True"
      ]
     },
     "execution_count": 4,
     "metadata": {},
     "output_type": "execute_result"
    }
   ],
   "source": [
    "load_dotenv()"
   ]
  },
  {
   "cell_type": "code",
   "execution_count": null,
   "id": "23af14a9-f3d7-4d37-8458-ce771a3551dc",
   "metadata": {},
   "outputs": [],
   "source": []
  },
  {
   "cell_type": "code",
   "execution_count": 5,
   "id": "46f02d8e-1ee1-44be-b12f-697d8fc4dbd9",
   "metadata": {},
   "outputs": [],
   "source": [
    "llm = ChatGoogleGenerativeAI(model = \"gemini-1.5-flash-latest\" )"
   ]
  },
  {
   "cell_type": "code",
   "execution_count": 6,
   "id": "58d3581d-48a4-452e-85be-4d33ac6879fb",
   "metadata": {},
   "outputs": [
    {
     "name": "stderr",
     "output_type": "stream",
     "text": [
      "C:\\Users\\devra\\AppData\\Local\\Temp\\ipykernel_22380\\3353824168.py:1: LangChainDeprecationWarning: Please see the migration guide at: https://python.langchain.com/docs/versions/migrating_memory/\n",
      "  memory = ConversationBufferMemory(memory_key=\"chat_history\", return_messages=True)\n"
     ]
    }
   ],
   "source": [
    "memory = ConversationBufferMemory(memory_key=\"chat_history\", return_messages=True)"
   ]
  },
  {
   "cell_type": "code",
   "execution_count": 8,
   "id": "7a877dc3-8501-4bb6-817a-d92c7f892300",
   "metadata": {},
   "outputs": [],
   "source": [
    "search_tool = DuckDuckGoSearchRun()\n",
    "tool = Tool(\n",
    "    name=\"Search\",\n",
    "    func=search_tool.run,\n",
    "    description=\"Use this tool to look up information on the web ONLY when needed.\"\n",
    ")"
   ]
  },
  {
   "cell_type": "code",
   "execution_count": 9,
   "id": "05dd1421-8679-4d46-92fa-bfa29551756e",
   "metadata": {},
   "outputs": [
    {
     "name": "stderr",
     "output_type": "stream",
     "text": [
      "C:\\Users\\devra\\AppData\\Roaming\\Python\\Python310\\site-packages\\langsmith\\client.py:272: LangSmithMissingAPIKeyWarning: API key must be provided when using hosted LangSmith API\n",
      "  warnings.warn(\n"
     ]
    }
   ],
   "source": [
    "prompt = hub.pull(\"hwchase17/react-chat\")"
   ]
  },
  {
   "cell_type": "code",
   "execution_count": 10,
   "id": "3c25bc1d-3767-46a3-8e1d-254087a44b4c",
   "metadata": {},
   "outputs": [],
   "source": [
    "agent = create_react_agent(\n",
    "    llm=llm,\n",
    "    tools = [tool],\n",
    "    prompt = prompt\n",
    ")"
   ]
  },
  {
   "cell_type": "code",
   "execution_count": 11,
   "id": "9af6a6d5-2a89-48ed-9f4b-256f0c087893",
   "metadata": {},
   "outputs": [],
   "source": [
    "agent_executer = AgentExecutor(\n",
    "    agent = agent,\n",
    "    tools = [tool],\n",
    "    memory = memory,\n",
    "    verbose = True,\n",
    "    handle_parsing_errors=True\n",
    ")"
   ]
  },
  {
   "cell_type": "code",
   "execution_count": 13,
   "id": "616789be-5c8d-489d-ac5b-03ae97141c5a",
   "metadata": {},
   "outputs": [
    {
     "name": "stdout",
     "output_type": "stream",
     "text": [
      "\n",
      "\n",
      "\u001b[1m> Entering new AgentExecutor chain...\u001b[0m\n",
      "\u001b[32;1m\u001b[1;3mThought: Do I need to use a tool? No\n",
      "Final Answer: Neural networks are computing systems inspired by the biological neural networks that constitute animal brains.  They are a subset of machine learning and are at the heart of many advancements in artificial intelligence.  \n",
      "\n",
      "At their core, neural networks consist of interconnected nodes, or \"neurons,\" organized in layers.  These layers typically include:\n",
      "\n",
      "* **Input Layer:** Receives the initial data (e.g., pixels in an image, words in a sentence).\n",
      "* **Hidden Layers:**  Perform complex computations on the data, extracting features and patterns.  There can be multiple hidden layers, increasing the network's complexity and ability to learn intricate relationships.\n",
      "* **Output Layer:** Produces the final result, such as a classification (e.g., cat or dog), a prediction (e.g., stock price), or a generated text.\n",
      "\n",
      "Each connection between neurons has an associated weight, representing the strength of the connection.  The network learns by adjusting these weights based on the data it is trained on.  This process, often involving backpropagation, minimizes the difference between the network's predictions and the actual values.\n",
      "\n",
      "Different types of neural networks exist, each suited for specific tasks:\n",
      "\n",
      "* **Feedforward Neural Networks:** Information flows in one direction, from input to output.\n",
      "* **Convolutional Neural Networks (CNNs):**  Excellent for image and video processing, utilizing convolutional layers to detect features.\n",
      "* **Recurrent Neural Networks (RNNs):**  Designed for sequential data like text and time series, utilizing recurrent connections to maintain context.\n",
      "* **Long Short-Term Memory Networks (LSTMs):** A type of RNN particularly effective at handling long-range dependencies in sequential data.\n",
      "\n",
      "In essence, neural networks learn from data by identifying patterns and relationships, enabling them to make predictions or classifications on new, unseen data.  Their ability to learn complex patterns makes them powerful tools in various applications, including image recognition, natural language processing, and more.\u001b[0m\n",
      "\n",
      "\u001b[1m> Finished chain.\u001b[0m\n"
     ]
    }
   ],
   "source": [
    "response = agent_executer.invoke({\"input\":\"Explain neural networks\"})"
   ]
  },
  {
   "cell_type": "code",
   "execution_count": 14,
   "id": "98abce80-889d-4c63-bb54-5a12f407198c",
   "metadata": {},
   "outputs": [
    {
     "name": "stdout",
     "output_type": "stream",
     "text": [
      "Neural networks are computing systems inspired by the biological neural networks that constitute animal brains.  They are a subset of machine learning and are at the heart of many advancements in artificial intelligence.  \n",
      "\n",
      "At their core, neural networks consist of interconnected nodes, or \"neurons,\" organized in layers.  These layers typically include:\n",
      "\n",
      "* **Input Layer:** Receives the initial data (e.g., pixels in an image, words in a sentence).\n",
      "* **Hidden Layers:**  Perform complex computations on the data, extracting features and patterns.  There can be multiple hidden layers, increasing the network's complexity and ability to learn intricate relationships.\n",
      "* **Output Layer:** Produces the final result, such as a classification (e.g., cat or dog), a prediction (e.g., stock price), or a generated text.\n",
      "\n",
      "Each connection between neurons has an associated weight, representing the strength of the connection.  The network learns by adjusting these weights based on the data it is trained on.  This process, often involving backpropagation, minimizes the difference between the network's predictions and the actual values.\n",
      "\n",
      "Different types of neural networks exist, each suited for specific tasks:\n",
      "\n",
      "* **Feedforward Neural Networks:** Information flows in one direction, from input to output.\n",
      "* **Convolutional Neural Networks (CNNs):**  Excellent for image and video processing, utilizing convolutional layers to detect features.\n",
      "* **Recurrent Neural Networks (RNNs):**  Designed for sequential data like text and time series, utilizing recurrent connections to maintain context.\n",
      "* **Long Short-Term Memory Networks (LSTMs):** A type of RNN particularly effective at handling long-range dependencies in sequential data.\n",
      "\n",
      "In essence, neural networks learn from data by identifying patterns and relationships, enabling them to make predictions or classifications on new, unseen data.  Their ability to learn complex patterns makes them powerful tools in various applications, including image recognition, natural language processing, and more.\n"
     ]
    }
   ],
   "source": [
    "print(response['output'])"
   ]
  }
 ],
 "metadata": {
  "kernelspec": {
   "display_name": "Python 3",
   "language": "python",
   "name": "python3"
  },
  "language_info": {
   "codemirror_mode": {
    "name": "ipython",
    "version": 3
   },
   "file_extension": ".py",
   "mimetype": "text/x-python",
   "name": "python",
   "nbconvert_exporter": "python",
   "pygments_lexer": "ipython3",
   "version": "3.10.9"
  }
 },
 "nbformat": 4,
 "nbformat_minor": 5
}
