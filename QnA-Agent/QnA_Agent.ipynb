{
 "cells": [
  {
   "cell_type": "code",
   "execution_count": 2,
   "id": "300227b6-1178-4c5c-8066-10785d5449b0",
   "metadata": {},
   "outputs": [],
   "source": [
    "from langchain_google_genai import ChatGoogleGenerativeAI\n",
    "from langchain_core.prompts import PromptTemplate\n",
    "from langchain_core.tools import tool\n",
    "from langchain.agents import create_react_agent, AgentExecutor,Tool\n",
    "from langchain_community.tools import DuckDuckGoSearchRun\n",
    "from langchain.memory import ConversationBufferMemory\n",
    "from langchain import hub\n",
    "import os"
   ]
  },
  {
   "cell_type": "code",
   "execution_count": 3,
   "id": "efcef3b9-cd81-49ab-be97-b454cb340077",
   "metadata": {},
   "outputs": [],
   "source": [
    "from dotenv import load_dotenv"
   ]
  },
  {
   "cell_type": "code",
   "execution_count": 4,
   "id": "5a853331-7040-4465-8857-1eb01d8ff252",
   "metadata": {},
   "outputs": [
    {
     "data": {
      "text/plain": [
       "True"
      ]
     },
     "execution_count": 4,
     "metadata": {},
     "output_type": "execute_result"
    }
   ],
   "source": [
    "load_dotenv()"
   ]
  },
  {
   "cell_type": "code",
   "execution_count": null,
   "id": "23af14a9-f3d7-4d37-8458-ce771a3551dc",
   "metadata": {},
   "outputs": [],
   "source": []
  },
  {
   "cell_type": "code",
   "execution_count": 6,
   "id": "46f02d8e-1ee1-44be-b12f-697d8fc4dbd9",
   "metadata": {},
   "outputs": [],
   "source": [
    "llm = ChatGoogleGenerativeAI(model = \"gemini-1.5-flash-latest\" )"
   ]
  },
  {
   "cell_type": "code",
   "execution_count": 7,
   "id": "58d3581d-48a4-452e-85be-4d33ac6879fb",
   "metadata": {},
   "outputs": [
    {
     "name": "stderr",
     "output_type": "stream",
     "text": [
      "C:\\Users\\devra\\AppData\\Local\\Temp\\ipykernel_22844\\3353824168.py:1: LangChainDeprecationWarning: Please see the migration guide at: https://python.langchain.com/docs/versions/migrating_memory/\n",
      "  memory = ConversationBufferMemory(memory_key=\"chat_history\", return_messages=True)\n"
     ]
    }
   ],
   "source": [
    "memory = ConversationBufferMemory(memory_key=\"chat_history\", return_messages=True)"
   ]
  },
  {
   "cell_type": "code",
   "execution_count": 8,
   "id": "7a877dc3-8501-4bb6-817a-d92c7f892300",
   "metadata": {},
   "outputs": [],
   "source": [
    "search_tool = DuckDuckGoSearchRun()\n",
    "tool = Tool(\n",
    "    name=\"Search\",\n",
    "    func=search_tool.run,\n",
    "    description=\"Use this tool to look up information on the web ONLY when needed.\"\n",
    ")"
   ]
  },
  {
   "cell_type": "code",
   "execution_count": 9,
   "id": "05dd1421-8679-4d46-92fa-bfa29551756e",
   "metadata": {},
   "outputs": [
    {
     "name": "stderr",
     "output_type": "stream",
     "text": [
      "C:\\Users\\devra\\.conda\\envs\\Lang\\Lib\\site-packages\\langsmith\\client.py:272: LangSmithMissingAPIKeyWarning: API key must be provided when using hosted LangSmith API\n",
      "  warnings.warn(\n"
     ]
    }
   ],
   "source": [
    "prompt = hub.pull(\"hwchase17/react-chat\")"
   ]
  },
  {
   "cell_type": "code",
   "execution_count": 10,
   "id": "3c25bc1d-3767-46a3-8e1d-254087a44b4c",
   "metadata": {},
   "outputs": [],
   "source": [
    "agent = create_react_agent(\n",
    "    llm=llm,\n",
    "    tools = [tool],\n",
    "    prompt = prompt\n",
    ")"
   ]
  },
  {
   "cell_type": "code",
   "execution_count": 11,
   "id": "9af6a6d5-2a89-48ed-9f4b-256f0c087893",
   "metadata": {},
   "outputs": [],
   "source": [
    "agent_executer = AgentExecutor(\n",
    "    agent = agent,\n",
    "    tools = [tool],\n",
    "    memory = memory,\n",
    "    verbose = True,\n",
    "    handle_parsing_errors=True\n",
    ")"
   ]
  },
  {
   "cell_type": "code",
   "execution_count": 17,
   "id": "616789be-5c8d-489d-ac5b-03ae97141c5a",
   "metadata": {},
   "outputs": [],
   "source": [
    "#response = agent_executer.invoke({\"input\":\"Explain the above topic in simpler words\"})"
   ]
  },
  {
   "cell_type": "code",
   "execution_count": 18,
   "id": "98abce80-889d-4c63-bb54-5a12f407198c",
   "metadata": {},
   "outputs": [],
   "source": [
    "#print(response['output'])"
   ]
  }
 ],
 "metadata": {
  "kernelspec": {
   "display_name": "Python 3 (ipykernel)",
   "language": "python",
   "name": "python3"
  },
  "language_info": {
   "codemirror_mode": {
    "name": "ipython",
    "version": 3
   },
   "file_extension": ".py",
   "mimetype": "text/x-python",
   "name": "python",
   "nbconvert_exporter": "python",
   "pygments_lexer": "ipython3",
   "version": "3.12.9"
  }
 },
 "nbformat": 4,
 "nbformat_minor": 5
}
